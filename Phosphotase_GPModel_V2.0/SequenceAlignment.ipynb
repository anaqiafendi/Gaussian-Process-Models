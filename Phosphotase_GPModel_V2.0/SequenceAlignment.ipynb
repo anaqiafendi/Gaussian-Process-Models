{
 "metadata": {
  "language_info": {
   "codemirror_mode": {
    "name": "ipython",
    "version": 3
   },
   "file_extension": ".py",
   "mimetype": "text/x-python",
   "name": "python",
   "nbconvert_exporter": "python",
   "pygments_lexer": "ipython3",
   "version": "3.8.5-final"
  },
  "orig_nbformat": 2,
  "kernelspec": {
   "name": "python38064bit8524944b7830403fbe33f0efba5bc94f",
   "display_name": "Python 3.8.0 64-bit"
  }
 },
 "nbformat": 4,
 "nbformat_minor": 2,
 "cells": [
  {
   "cell_type": "code",
   "execution_count": 3,
   "metadata": {},
   "outputs": [],
   "source": [
    "import pickle\n",
    "from pathlib import Path\n",
    "import numpy as np\n",
    "import pandas as pd\n",
    "\n",
    "import Bio\n",
    "from Bio import AlignIO"
   ]
  },
  {
   "cell_type": "code",
   "execution_count": 4,
   "metadata": {},
   "outputs": [],
   "source": [
    "Processed_Folder = Path(r\"SequenceAlignment.ipynb\").parent.absolute() / Path(\"Processed Data\")\n",
    "\n",
    "dicts = ['EFI_ID_List', 'metabolite_dict', 'Protein_seq_dict']\n",
    "\n",
    "with open(Processed_Folder / Path('EFI_ID_List.p'), 'rb') as EFI_ID:\n",
    "    EFI_ID_List = pickle.load(EFI_ID)\n",
    "\n",
    "with open(Processed_Folder / Path('metabolite_dict.p'), 'rb') as metabolite:\n",
    "    metabolite_dict = pickle.load(metabolite)\n",
    "\n",
    "with open(Processed_Folder / Path('Protein_seq_dict.p'), 'rb') as Protein_seq:\n",
    "    Protein_seq_dict = pickle.load(Protein_seq)\n",
    "\n",
    "with open(Processed_Folder / Path('GI_dict.p'), 'rb') as GI:\n",
    "    GI_dict = pickle.load(GI)\n",
    "\n",
    "activations = pd.read_csv(Processed_Folder / Path('activations.csv'), index_col=0)"
   ]
  },
  {
   "cell_type": "code",
   "execution_count": 20,
   "metadata": {
    "tags": []
   },
   "outputs": [
    {
     "output_type": "stream",
     "name": "stdout",
     "text": ">MTIAVDFDGTIVEHRYPRIGEEIPFAVETLKLLQQEKHRLILWSVREGELLDEAIEWCRARGLEFYAANKDYPEEERDHQGFSRKLKADLFIDDRNVGGIPDWGIIYEMIKEKKTFADIYSQQREENTSQKKKRKWLPF\n>MKLLILDRDGVINYDSDAYIKTLEEWVPIPGSVDAIAQLSKAGWTVAVATNQSGIARGYYPLATLEAMHARLRALVAEQGGEVGHIVYCPHGPDEGCDCRKPKPGMLRAIAEHYQIGLEGVWFVGDSKGDLEAALAVGAQPVLVKTGKGERTLEKGVPETTLIFDDLAAIARELI\n>MDTAPAFTAVLFGLRGCLVQATHGAPSPAPGALGTLASLRQRQVPCIWLDDLNTAQSERLAHVLPDWLPGHAVNGVRWPAPNACWQALMALDSERLDGCVLVSGDPRLLQSGLNAGLWTVGLAACSPLCDRTSAQWQAMSPQEQDLARSKATLALFSLGVHSVIDHLEALDTCLVDIAQRRRKGEKP\n>MSLGEVRNWVFDMDGTLTVAVHDFAAIRVALDIPAEHDILTHLAALPAEEAAAKHAWLLEHERDLATASTAATGAVELVRELAGRGCRLGILTRNARELAHVTLEAIGLADCFPVEHILGRDEAAPKPSPDGLLKIASAWGVTPSELVMVGDYRFDLDCGRAAGARTVLVNLPDNPWPELVDWHAADCRALKVMLG\n>MLYIFDLGNVIVDIDFNRVLGVWSDLSRVPLASLKQKFTMGETFHQHERGEITDEAFAEAFCHEMALSLSYEQFAHGWQAVFVGLRPEVIAIMHKLREQGHRVVVLSNTNRLHTHFWPEEYPEVRAAADHIYLSQDLGMRKPEARIYQHVLQKEGFSAADAVFFDDNADNIEGANQLGITSILVKDKATIPDYFAKLLC\n>MLYIFDLGNVIVDIDFNRVLGAWSDLTRIPLASLKKSFHMGEAFHQHERGEISDEAFAEALCHEMALPLSYEQFSHGWQAVFVALRPEVIAIMHKLREQGHRVVVLSNTNRLHTTFWPEEYPEIRDAADHIYLSQDLGMRKPEARIYQHVLQAEGFSPSDTVFFDDNADNIEGANQLGITSILVKDKTTIPDYFAKVLC\n>MPQTAFIWDLDGTLIDSYEAIMEALAVTYRTFGFDFQAEPIRRYIIKESVGKLLDILAKQHGLSSEELKTFFIQEQVKRDDKIKLMPFAKEALQWAKDRGIKQFMYTHKGASTGAVLAELGIVSYFTEILTSVSGFERKPHPQGIFYLLEKYHLDRDRTYYIGDRRLDVEVAENAGIKSINLAQPQSAANQKIDNLQVLTQLKDF\n>MIKNIVFDFGGVIVDIDRDKAVQAFIKLGLADADTRLDKYHQTGIFQELEEGKLSADEFRKQLGDLCGRELTMEETKQAWLGFFNEVDLRKLDYILGLRKSYHVYLLSNTNPFVMSWACSPEFSSEGKPLNDYCDKLYLSYQLGHTKPAPEIFDFMIKDSHVIPSETLFVDDGSSNIHIGKELGFETFQPENGADWRQELTVILNS\n>MKSKGIKNLLIDLGGVLINLDRERCIENFKKIGFQNIEEKFCTHQLDGIFLQQEKGLITPAEFRDGIREMMGKMVSDKQIDAAWNSFLVDIPTYKLDLLLKLREKYVVYLLSNTNDIHWKWVCKNAFPYRTFKVEDYFEKTYLSYEMKMAKPEPEIFKAVTEDAGIDPKETFFIDDSEINCKVAQELGISTYTPKAGEDWSHLFRKK\n>MKKVVSFAGFDTLFDTEVFYRAIGRLGERYNIDDNLVRNTYVEKELALMKADEFVKYSKLMEEALNQTADELGFKVDPSDFSDVLIAHTVMKPFPDAPTALYQIKAKGYETVLMTNHSRDLIQSNVINLDHEFDMIITAEDVQTYKPNQKFFDYVNDQLGNDVEKHVHVAVDEVKDLKPAQDAGWNVIKIDRKSEDASIASLMDTVDKL\n"
    }
   ],
   "source": [
    "for i in range(0,10):\n",
    "    P_seq = Protein_seq_dict[EFI_ID_List[i]]\n",
    "    P_seq = P_seq.upper()\n",
    "    P_seq = '>'+ P_seq\n",
    "    print(P_seq)"
   ]
  },
  {
   "cell_type": "code",
   "execution_count": null,
   "metadata": {},
   "outputs": [],
   "source": [
    "'''\n",
    "Following this tutorial:\n",
    "\n",
    "https://www.tutorialspoint.com/biopython/biopython_sequence_alignments.htm#:~:text=Sequence%20alignment%20is%20the%20process,region%20of%20similarity%20between%20them.\n",
    "\n",
    "'''"
   ]
  },
  {
   "cell_type": "code",
   "execution_count": null,
   "metadata": {
    "tags": []
   },
   "outputs": [],
   "source": [
    "Align_Path = 'Alignment Data/'\n",
    "\n",
    "APath = Align_Path + \"HAD_PF12710_seed.txt\"\n",
    "alignment = AlignIO.read(open(APath), \"stockholm\")\n",
    "for align in alignment: \n",
    "    print(align.seq) "
   ]
  },
  {
   "cell_type": "code",
   "execution_count": null,
   "metadata": {
    "tags": []
   },
   "outputs": [],
   "source": [
    "alignments = AlignIO.parse(open(APath), \"stockholm\") # Makes alignments iterable object\n",
    "print(alignments)\n",
    "for al in alignments:\n",
    "    print(al)"
   ]
  },
  {
   "cell_type": "code",
   "execution_count": null,
   "metadata": {},
   "outputs": [],
   "source": [
    "from Bio import pairwise2\n",
    "from Bio.Seq import Seq \n",
    "seq1 = Seq(\"ACCGGT\") \n",
    "seq2 = Seq(\"ACGT\")\n",
    "alignments = pairwise2.align.globalxx(seq1, seq2)"
   ]
  },
  {
   "cell_type": "code",
   "execution_count": null,
   "metadata": {
    "tags": []
   },
   "outputs": [],
   "source": [
    "print(alignments)"
   ]
  },
  {
   "cell_type": "code",
   "execution_count": 9,
   "metadata": {
    "tags": []
   },
   "outputs": [
    {
     "output_type": "stream",
     "name": "stdout",
     "text": "clustalw2 -infile=\"Alignment Data/opuntia.fasta\"\n"
    }
   ],
   "source": [
    "# Using Sequence Alignment Tools\n",
    "from Bio.Align.Applications import ClustalwCommandline\n",
    "cmd = ClustalwCommandline(\"clustalw2\", infile= Align_Path + \"opuntia.fasta\")\n",
    "print(cmd)\n",
    "stdout, stderr = cmd()"
   ]
  },
  {
   "cell_type": "code",
   "execution_count": 14,
   "metadata": {
    "tags": []
   },
   "outputs": [
    {
     "output_type": "execute_result",
     "data": {
      "text/plain": "''"
     },
     "metadata": {},
     "execution_count": 14
    }
   ],
   "source": []
  }
 ]
}